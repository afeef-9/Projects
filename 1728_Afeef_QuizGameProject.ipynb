{
 "cells": [
  {
   "cell_type": "code",
   "execution_count": 1,
   "id": "a79e0ecc-2e77-48b6-b2dc-0141604bd943",
   "metadata": {},
   "outputs": [],
   "source": [
    "import tkinter as tk\n",
    "from tkinter import messagebox"
   ]
  },
  {
   "cell_type": "code",
   "execution_count": 3,
   "id": "8a3339f4-4446-484b-b2e3-18131d072476",
   "metadata": {},
   "outputs": [],
   "source": [
    "data = [\n",
    "    {\n",
    "     \"question\": \"What keyword is used to define a function in Python?\",\n",
    "     \"options\":[\"define\",\"function\",\"def\",\"func\"],\n",
    "     \"answer\": \"def\"\n",
    "    },\n",
    "    {\n",
    "     \"question\":\"Which of the following is used to create a loop in Python?\",\n",
    "     \"options\":[\"for\",\"loop\",\"while\",\"repeat\"],\n",
    "     \"answer\": \"for\"\n",
    "    },\n",
    "    {\n",
    "     \"question\":\"Which operator is used to compare two values in Python?\",\n",
    "     \"options\":[\"=\",\"==\",\"!=\",\"===\"],\n",
    "     \"answer\": \"==\"\n",
    "    },\n",
    "    {\n",
    "     \"question\":\"What is the output of print(3 * 'A') in Python?\",\n",
    "     \"options\":[\"AAA\",\"AA\",\"A3\",\"3A\"],\n",
    "     \"answer\": \"AAA\"\n",
    "    },\n",
    "    {\n",
    "     \"question\":\" Which of the following keywords is used to handle exceptions in Python?\",\n",
    "     \"options\":[\"try\",\"catch\",\"throw\",\"except\"],\n",
    "     \"answer\": \"try\"\n",
    "    },\n",
    "    {\n",
    "     \"question\":\"Which of the following is a mutable data type in Python?\",\n",
    "     \"options\":[\"Tuple\",\"String\",\"List\",\"Integer\"],\n",
    "     \"answer\": \"List\"\n",
    "    }\n",
    "]"
   ]
  },
  {
   "cell_type": "code",
   "execution_count": 4,
   "id": "166878ba-28a9-4545-a794-21d7993be679",
   "metadata": {},
   "outputs": [],
   "source": [
    "def check(selected_option):\n",
    "    global current_question, score\n",
    "    if selected_option == data[current_question][\"answer\"]:\n",
    "        score += 1\n",
    "        \n",
    "    current_question += 1\n",
    "    if current_question < len(data):\n",
    "        update_question()\n",
    "    else:\n",
    "        show_score()\n",
    "        \n",
    "        "
   ]
  },
  {
   "cell_type": "code",
   "execution_count": 7,
   "id": "79cc0279-818f-42b4-b6cc-4acfaa365e4f",
   "metadata": {},
   "outputs": [],
   "source": [
    "def update_question():\n",
    "    question_label.config(text = data[current_question][\"question\"])\n",
    "    for i, option in enumerate(data[current_question][\"options\"]):\n",
    "        button[i].config(text = option,command = lambda o = option:check(o))\n",
    "        \n",
    "    \n",
    "    "
   ]
  },
  {
   "cell_type": "code",
   "execution_count": 9,
   "id": "fc4db18d-c74c-45dd-a698-53ecc3dd2fd6",
   "metadata": {},
   "outputs": [],
   "source": [
    "def show_score():\n",
    "    messagebox.showinfo(\"Quiz Completed\",f\"You scored {score} out of {len(data)}\")\n",
    "    root.quit"
   ]
  },
  {
   "cell_type": "code",
   "execution_count": null,
   "id": "92184739-eb49-4ae6-a711-3dba5d580c6e",
   "metadata": {},
   "outputs": [],
   "source": [
    "root = tk.Tk()\n",
    "root.title(\"Quiz\")\n",
    "\n",
    "current_question = 0\n",
    "score = 0\n",
    "\n",
    "question_label = tk.Label(root, text = data[current_question][\"question\"],font =(\"Arial\", 15))\n",
    "question_label.pack(pady =20)\n",
    "\n",
    "button = []\n",
    "for i in range(4):\n",
    "    btn = tk.Button(root,text =\"\",font =(\"Arial\", 14))\n",
    "    btn.pack(pady = 5, fill= tk.X)\n",
    "    button.append(btn)\n",
    "\n",
    "update_question()\n",
    "\n",
    "root.mainloop()"
   ]
  },
  {
   "cell_type": "code",
   "execution_count": null,
   "id": "ef15e6af-9e43-47e4-a03c-5a16b626b77e",
   "metadata": {},
   "outputs": [],
   "source": []
  }
 ],
 "metadata": {
  "kernelspec": {
   "display_name": "Python 3 (ipykernel)",
   "language": "python",
   "name": "python3"
  },
  "language_info": {
   "codemirror_mode": {
    "name": "ipython",
    "version": 3
   },
   "file_extension": ".py",
   "mimetype": "text/x-python",
   "name": "python",
   "nbconvert_exporter": "python",
   "pygments_lexer": "ipython3",
   "version": "3.12.4"
  }
 },
 "nbformat": 4,
 "nbformat_minor": 5
}
