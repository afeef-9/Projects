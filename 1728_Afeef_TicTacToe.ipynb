{
 "cells": [
  {
   "cell_type": "code",
   "execution_count": 61,
   "id": "7d88f0cf-c920-48c1-acd8-faaad13c1b09",
   "metadata": {},
   "outputs": [],
   "source": [
    "import random\n",
    "board = [\"-\", \"-\", \"-\",\n",
    "         \"-\", \"-\", \"-\",\n",
    "         \"-\", \"-\", \"-\"]\n",
    "\n",
    "currentPlayer = \"X\"\n",
    "winner = None\n",
    "gameRunning = True"
   ]
  },
  {
   "cell_type": "code",
   "execution_count": 63,
   "id": "41e4d305-ebdb-4c46-8f4c-47890f81c758",
   "metadata": {},
   "outputs": [],
   "source": [
    "#Create a game board\n",
    "def printBoard(board):\n",
    "    print(board[0] + \" | \" + board[1] + \" | \" + board[2])\n",
    "    print(board[3] + \" | \" + board[4] + \" | \" + board[5])\n",
    "    print(board[6] + \" | \" + board[7] + \" | \" + board[8])"
   ]
  },
  {
   "cell_type": "code",
   "execution_count": 65,
   "id": "f076ca79-d69c-4dfb-abb4-1c21d2ecd40d",
   "metadata": {},
   "outputs": [],
   "source": [
    "#Take player input\n",
    "def playerInput(board):\n",
    "    inp = int(input(\"Enter a number btw 1 to 9:\"))\n",
    "    if inp >= 1 and inp <= 9 and board[inp-1] == \"-\":\n",
    "        board[inp-1] = currentPlayer\n",
    "    else:\n",
    "        print(\"Slot already taken by a player\")"
   ]
  },
  {
   "cell_type": "code",
   "execution_count": 67,
   "id": "d4d20b33-9838-4885-8ecc-665ab6457905",
   "metadata": {},
   "outputs": [],
   "source": [
    "#Check for win and tie\n",
    "def checkHorizontal(board):\n",
    "    global winner\n",
    "    if (board[0] == board[1] == board[2] and board[0]!= \"-\"):\n",
    "        winner = board[0]\n",
    "        return True\n",
    "    elif(board[3] == board[4] == board[5] and board[3]!= \"-\"):\n",
    "        winner = board[3]\n",
    "        return True\n",
    "    elif(board[6] == board[7] == board[8] and board[6]!= \"-\"):\n",
    "        winner = board[6]\n",
    "        return True\n",
    "\n",
    "def chekRow(board):\n",
    "    global winner\n",
    "    if (board[0] == board[3] == board[6] and board[0]!= \"-\"):\n",
    "        winner = board[0]\n",
    "        return True\n",
    "    elif(board[1] == board[4] == board[7] and board[1]!= \"-\"):\n",
    "        winner = board[1]\n",
    "        return True\n",
    "    elif(board[2] == board[5] == board[8] and board[2]!= \"-\"):\n",
    "        winner = board[2]\n",
    "        return True\n",
    "\n",
    "def checkDiag(board):\n",
    "    global winner\n",
    "    if (board[0] == board[4] == board[8] and board[0]!= \"-\"):\n",
    "        winner = board[0]\n",
    "        return True\n",
    "    elif(board[2] == board[4] == board[6] and board[2]!= \"-\"):\n",
    "        winner = board[2]\n",
    "        return True\n",
    "\n",
    "def checkTie(board):\n",
    "    global gameRunning\n",
    "    if \"-\" not in board:\n",
    "        printBoard(board)\n",
    "        print(\"Tie!\")\n",
    "        gameRunning = False\n",
    "\n",
    "def checkWin():\n",
    "    if checkDiag(board) or checkHorizontal(board) or chekRow(board):\n",
    "        print(f\"The winner is {winner}\")\n",
    "   "
   ]
  },
  {
   "cell_type": "code",
   "execution_count": 69,
   "id": "f34f4f54-54a8-43c5-b366-edf8b8d47f18",
   "metadata": {},
   "outputs": [],
   "source": [
    "#switch the player\n",
    "def switchPlayer():\n",
    "    global currentPlayer\n",
    "    if currentPlayer == \"X\":\n",
    "        currentPlayer = \"O\"\n",
    "    else:\n",
    "        currentPlayer = \"X\""
   ]
  },
  {
   "cell_type": "code",
   "execution_count": 71,
   "id": "02c959bd-9eb5-415e-a282-7e729970aaf7",
   "metadata": {},
   "outputs": [],
   "source": [
    "#computer\n",
    "def computer(board):\n",
    "    while currentPlayer == \"O\":\n",
    "        position = random.randint(0,8)\n",
    "        if board[position] == \"-\":\n",
    "            board[position] = \"O\"\n",
    "            switchPlayer()"
   ]
  },
  {
   "cell_type": "code",
   "execution_count": null,
   "id": "596e2dd8-a652-4c71-ae41-3f5bc2549ad2",
   "metadata": {},
   "outputs": [
    {
     "name": "stdout",
     "output_type": "stream",
     "text": [
      "- | - | -\n",
      "- | - | -\n",
      "- | - | -\n"
     ]
    },
    {
     "name": "stdin",
     "output_type": "stream",
     "text": [
      "Enter a number btw 1 to 9: 1\n"
     ]
    },
    {
     "name": "stdout",
     "output_type": "stream",
     "text": [
      "X | O | -\n",
      "- | - | -\n",
      "- | - | -\n"
     ]
    },
    {
     "name": "stdin",
     "output_type": "stream",
     "text": [
      "Enter a number btw 1 to 9: 4\n"
     ]
    },
    {
     "name": "stdout",
     "output_type": "stream",
     "text": [
      "X | O | -\n",
      "X | O | -\n",
      "- | - | -\n"
     ]
    },
    {
     "name": "stdin",
     "output_type": "stream",
     "text": [
      "Enter a number btw 1 to 9: 7\n"
     ]
    },
    {
     "name": "stdout",
     "output_type": "stream",
     "text": [
      "The winner is X\n",
      "The winner is X\n",
      "X | O | -\n",
      "X | O | -\n",
      "X | O | -\n"
     ]
    }
   ],
   "source": [
    "#check for win or tie\n",
    "while gameRunning:\n",
    "    printBoard(board)\n",
    "    playerInput(board)\n",
    "    checkWin()\n",
    "    checkTie(board)\n",
    "    switchPlayer()\n",
    "    computer(board)\n",
    "    checkWin()\n",
    "    checkTie(board)"
   ]
  },
  {
   "cell_type": "code",
   "execution_count": null,
   "id": "1de8d2b0-2e40-44e9-a13c-6146a33c23a7",
   "metadata": {},
   "outputs": [],
   "source": []
  }
 ],
 "metadata": {
  "kernelspec": {
   "display_name": "Python 3 (ipykernel)",
   "language": "python",
   "name": "python3"
  },
  "language_info": {
   "codemirror_mode": {
    "name": "ipython",
    "version": 3
   },
   "file_extension": ".py",
   "mimetype": "text/x-python",
   "name": "python",
   "nbconvert_exporter": "python",
   "pygments_lexer": "ipython3",
   "version": "3.12.4"
  }
 },
 "nbformat": 4,
 "nbformat_minor": 5
}
