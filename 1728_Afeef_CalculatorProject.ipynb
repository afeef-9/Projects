{
 "cells": [
  {
   "cell_type": "code",
   "execution_count": 2,
   "id": "8ad92af2-068d-4b8f-afba-4382205ac938",
   "metadata": {},
   "outputs": [],
   "source": [
    "import tkinter as tk"
   ]
  },
  {
   "cell_type": "code",
   "execution_count": 4,
   "id": "c9700304-c265-4706-b59c-52261029faf2",
   "metadata": {},
   "outputs": [],
   "source": [
    "def click(event):\n",
    "    current = display.get()\n",
    "\n",
    "    text = event.widget.cget('text')\n",
    "\n",
    "    if text == \"=\":\n",
    "        result = eval(current)\n",
    "        display.delete(0, tk.END)\n",
    "        display.insert(tk.END, result)\n",
    "    elif text == \"AC\":\n",
    "        display.delete(0, tk.END)\n",
    "    else:\n",
    "        display.insert(tk.END, text)  \n",
    "    "
   ]
  },
  {
   "cell_type": "code",
   "execution_count": 6,
   "id": "e4a2a01f-e531-47bc-bcf3-c46be4bbba52",
   "metadata": {},
   "outputs": [],
   "source": [
    "window = tk.Tk()\n",
    "window.title (\"Calculator\")\n",
    "\n",
    "display = tk.Entry(window,font=(\"Arial\",20), justify = \"right\")\n",
    "display.pack(fill=tk.X, padx =10, pady = 10, ipady = 10)\n",
    "\n",
    "btn_frame = tk.Frame(window)\n",
    "btn_frame.pack()\n",
    "\n",
    "button_labels = [\n",
    "    \"(\",\")\",\"%\",\"AC\",\n",
    "    \"7\",\"8\",\"9\",\"/\",\n",
    "    \"4\",\"5\",\"6\",\"*\",\n",
    "    \"1\",\"2\",\"3\",\"-\",\n",
    "    \"0\",\".\",\"=\",\"+\"\n",
    "]\n",
    "\n",
    "\n",
    "i = 0\n",
    "for label in button_labels:\n",
    "    button = tk.Button(btn_frame, text = label, font =(\"Arial\",20),padx =10, pady = 10)\n",
    "    button.grid(row = i//4, column = i % 4, padx = 10, pady = 10 )\n",
    "    button.bind(\"<Button-1>\", click)\n",
    "    i +=1\n",
    "\n",
    "\n",
    "window.mainloop()\n"
   ]
  },
  {
   "cell_type": "code",
   "execution_count": null,
   "id": "5ee99099-37c8-42f1-8812-458ba8eafe20",
   "metadata": {},
   "outputs": [],
   "source": []
  }
 ],
 "metadata": {
  "kernelspec": {
   "display_name": "Python 3 (ipykernel)",
   "language": "python",
   "name": "python3"
  },
  "language_info": {
   "codemirror_mode": {
    "name": "ipython",
    "version": 3
   },
   "file_extension": ".py",
   "mimetype": "text/x-python",
   "name": "python",
   "nbconvert_exporter": "python",
   "pygments_lexer": "ipython3",
   "version": "3.12.4"
  }
 },
 "nbformat": 4,
 "nbformat_minor": 5
}
