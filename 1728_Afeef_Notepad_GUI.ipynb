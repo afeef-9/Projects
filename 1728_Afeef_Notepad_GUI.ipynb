{
 "cells": [
  {
   "cell_type": "code",
   "execution_count": 169,
   "id": "7e7705ce-97ae-4a3c-b8eb-8c1541514b0c",
   "metadata": {},
   "outputs": [],
   "source": [
    "import tkinter as tk\n",
    "from tkinter import *\n",
    "from tkinter import messagebox, filedialog\n",
    "import os"
   ]
  },
  {
   "cell_type": "code",
   "execution_count": 171,
   "id": "f062cc6a-bf08-4573-91b6-e3be7af24143",
   "metadata": {},
   "outputs": [],
   "source": [
    "def createWidgets():\n",
    "    global textArea\n",
    "    textArea = Text(root)\n",
    "    textArea.grid(sticky = N+E+S+W)\n",
    "\n",
    "    menuBar = Menu(root)\n",
    "    root.config(menu = menuBar)\n",
    "    fileMenu = Menu(menuBar, tearoff = 0)\n",
    "    fileMenu.add_command(label = \"New\", command = newFile)\n",
    "    fileMenu.add_command(label = \"Open\", command = openFile)\n",
    "    fileMenu.add_command(label = \"Save\", command =saveFile)\n",
    "    fileMenu.add_separator()\n",
    "    fileMenu.add_command(label = \"Exit\", command = exit)\n",
    "    menuBar.add_cascade(label = \"File\", menu = fileMenu)\n",
    "\n",
    "    editMenu = Menu(menuBar, tearoff = 0)\n",
    "    editMenu.add_command(label = \"Cut\", command =cut)\n",
    "    editMenu.add_command(label = \"Copy\", command =copy)\n",
    "    editMenu.add_command(label = \"Paste\", command =paste)\n",
    "    menuBar.add_cascade(label = \"Edit\", menu = editMenu)\n",
    "\n",
    "    helpMenu = Menu(menuBar, tearoff = 0)\n",
    "    helpMenu.add_command(label = \"About Notepad\", command =help)\n",
    "    menuBar.add_cascade(label = \"Help\", menu = helpMenu)\n",
    "\n",
    "    "
   ]
  },
  {
   "cell_type": "code",
   "execution_count": 173,
   "id": "86e2fb83-8f91-4f69-a3dd-59f940e473d7",
   "metadata": {},
   "outputs": [],
   "source": [
    "def newFile():\n",
    "    global textArea\n",
    "    root.title(\"Untitled - Notepad\")\n",
    "    file = None\n",
    "    textArea.delete(1.0,END)"
   ]
  },
  {
   "cell_type": "code",
   "execution_count": 175,
   "id": "88ca20bd-9de3-42b6-96e5-be0c2d6b0d9f",
   "metadata": {},
   "outputs": [],
   "source": [
    "def openFile():\n",
    "    global textArea\n",
    "    file = filedialog.askopenfile(defaultextension=\".txt\", filetypes=[(\"All files\", \"*.*\"),(\"Text Documents\",\"*.txt\")])\n",
    "    file = file.name\n",
    "\n",
    "    if file == \"\":\n",
    "        file = None\n",
    "    else:\n",
    "        root.title(os.path.basename(file) + \" - Notepad\")\n",
    "        textArea.delete(1.0, END)\n",
    "        file = open(file,\"rb\")\n",
    "        textArea.insert(1.0, file.read())\n",
    "        file.close()\n",
    "                                  "
   ]
  },
  {
   "cell_type": "code",
   "execution_count": 177,
   "id": "2bc32208-ea2d-4dc4-99e6-897c66589b38",
   "metadata": {},
   "outputs": [],
   "source": [
    "def saveFile():\n",
    "    global textArea, file\n",
    "    if file == None:\n",
    "        file = filedialog.asksaveasfilename(initialfile = \"Untitled.txt\", defaultextension=\".txt\", filetypes=[(\"All files\", \"*.*\"),(\"Text Documents\",\"*.txt\")])\n",
    "\n",
    "        if file == None:\n",
    "            file = None\n",
    "        else:\n",
    "            file = open(file,\"w\")\n",
    "            file.write(textArea.get(1.0, END))\n",
    "            file.close()\n",
    "            file = file.name\n",
    "            root.title(os.path.basename(file) + \"- Notepad\")\n",
    "    else:\n",
    "         file = open(file,\"w\")\n",
    "         file.write(textArea.get(1.0, END))\n",
    "         file.close()\n",
    "        \n",
    "            "
   ]
  },
  {
   "cell_type": "code",
   "execution_count": 179,
   "id": "e5819e34-7ae3-4ccb-8786-57cb991807f9",
   "metadata": {},
   "outputs": [],
   "source": [
    "def exit():\n",
    "    root.destroy()"
   ]
  },
  {
   "cell_type": "code",
   "execution_count": 181,
   "id": "0b2352ac-7f2c-433f-b369-1fd21cc53302",
   "metadata": {},
   "outputs": [],
   "source": [
    "def cut():\n",
    "    global textArea\n",
    "    textArea.event_generate(\"<<Cut>>\")\n",
    "\n",
    "def copy():\n",
    "    global textArea\n",
    "    textArea.event_generate(\"<<Copy>>\")\n",
    "    \n",
    "def paste():\n",
    "    global textArea\n",
    "    textArea.event_generate(\"<<Paste>>\")\n"
   ]
  },
  {
   "cell_type": "code",
   "execution_count": 183,
   "id": "75a034a7-fec5-4207-a6cc-b3878912aadb",
   "metadata": {},
   "outputs": [],
   "source": [
    "def help():\n",
    "    messagebox.showinfo(\"Notepad\", \"This simple notepad is developed as a part of Python beginner Project\")"
   ]
  },
  {
   "cell_type": "code",
   "execution_count": 185,
   "id": "44b2cee1-5634-4fcf-b9e3-984d7dfdd741",
   "metadata": {},
   "outputs": [],
   "source": [
    "root = tk.Tk()\n",
    "root.title(\"Unitled - Notepad\")\n",
    "file = None\n",
    "\n",
    "createWidgets()\n",
    "\n",
    "root.mainloop()"
   ]
  }
 ],
 "metadata": {
  "kernelspec": {
   "display_name": "Python 3 (ipykernel)",
   "language": "python",
   "name": "python3"
  },
  "language_info": {
   "codemirror_mode": {
    "name": "ipython",
    "version": 3
   },
   "file_extension": ".py",
   "mimetype": "text/x-python",
   "name": "python",
   "nbconvert_exporter": "python",
   "pygments_lexer": "ipython3",
   "version": "3.12.4"
  }
 },
 "nbformat": 4,
 "nbformat_minor": 5
}
