{
 "cells": [
  {
   "cell_type": "markdown",
   "id": "79fe95c8-1bb3-4bd1-96a1-c08995f141a9",
   "metadata": {},
   "source": [
    "### Import libraries"
   ]
  },
  {
   "cell_type": "code",
   "execution_count": 2,
   "id": "9a2c7242-1edb-403e-bc17-3d2de38727bc",
   "metadata": {},
   "outputs": [],
   "source": [
    "import numpy as np\n",
    "import matplotlib.pyplot as plt\n",
    "import pandas as pd\n",
    "import seaborn as sns\n",
    "import re\n",
    "from nltk.corpus import stopwords\n",
    "from nltk.stem import WordNetLemmatizer\n",
    "from tensorflow.keras.preprocessing.text import Tokenizer\n",
    "from keras.preprocessing.sequence import pad_sequences\n",
    "from tensorflow.keras import Sequential, layers\n",
    "from sklearn.model_selection import train_test_split\n",
    "from sklearn.metrics import accuracy_score, confusion_matrix, classification_report"
   ]
  },
  {
   "cell_type": "code",
   "execution_count": 3,
   "id": "35590fae-5fdc-4928-80dd-aebd4cdb9c30",
   "metadata": {},
   "outputs": [],
   "source": [
    "import warnings\n",
    "warnings.filterwarnings('ignore')"
   ]
  },
  {
   "cell_type": "markdown",
   "id": "1eef9f73-bbd5-4cce-8683-e5c07d7731a7",
   "metadata": {},
   "source": [
    "### Read the data"
   ]
  },
  {
   "cell_type": "code",
   "execution_count": 5,
   "id": "1ff7574a-fb03-4c86-8275-ec06ffe420a8",
   "metadata": {},
   "outputs": [],
   "source": [
    "df = pd.read_csv('movie_data.csv')"
   ]
  },
  {
   "cell_type": "code",
   "execution_count": 6,
   "id": "1ce4e2d7-ee28-4916-8514-e51d389c88c6",
   "metadata": {},
   "outputs": [],
   "source": [
    "df = df.sample(frac = 1)"
   ]
  },
  {
   "cell_type": "code",
   "execution_count": 7,
   "id": "884017f1-dd82-451c-b7ee-a193d20d2176",
   "metadata": {},
   "outputs": [],
   "source": [
    "df.reset_index(drop = True, inplace = True)"
   ]
  },
  {
   "cell_type": "code",
   "execution_count": 8,
   "id": "b2e87eaa-7c15-4695-ad03-b013a16a6884",
   "metadata": {},
   "outputs": [],
   "source": [
    "df = df[0:1000]"
   ]
  },
  {
   "cell_type": "code",
   "execution_count": 9,
   "id": "83c8e490-bfeb-4972-a043-d4183852ec62",
   "metadata": {},
   "outputs": [
    {
     "data": {
      "text/html": [
       "<div>\n",
       "<style scoped>\n",
       "    .dataframe tbody tr th:only-of-type {\n",
       "        vertical-align: middle;\n",
       "    }\n",
       "\n",
       "    .dataframe tbody tr th {\n",
       "        vertical-align: top;\n",
       "    }\n",
       "\n",
       "    .dataframe thead th {\n",
       "        text-align: right;\n",
       "    }\n",
       "</style>\n",
       "<table border=\"1\" class=\"dataframe\">\n",
       "  <thead>\n",
       "    <tr style=\"text-align: right;\">\n",
       "      <th></th>\n",
       "      <th>review</th>\n",
       "      <th>sentiment</th>\n",
       "    </tr>\n",
       "  </thead>\n",
       "  <tbody>\n",
       "    <tr>\n",
       "      <th>0</th>\n",
       "      <td>this has got to be one of those films where th...</td>\n",
       "      <td>0</td>\n",
       "    </tr>\n",
       "    <tr>\n",
       "      <th>1</th>\n",
       "      <td>This may very well be the worst movie I'll see...</td>\n",
       "      <td>0</td>\n",
       "    </tr>\n",
       "    <tr>\n",
       "      <th>2</th>\n",
       "      <td>This is a well-made documentary on the excitin...</td>\n",
       "      <td>1</td>\n",
       "    </tr>\n",
       "    <tr>\n",
       "      <th>3</th>\n",
       "      <td>My God, this is funny stuff. Yes, it's puerile...</td>\n",
       "      <td>1</td>\n",
       "    </tr>\n",
       "    <tr>\n",
       "      <th>4</th>\n",
       "      <td>A Chinese Ghost Story stars the late, great Le...</td>\n",
       "      <td>1</td>\n",
       "    </tr>\n",
       "  </tbody>\n",
       "</table>\n",
       "</div>"
      ],
      "text/plain": [
       "                                              review  sentiment\n",
       "0  this has got to be one of those films where th...          0\n",
       "1  This may very well be the worst movie I'll see...          0\n",
       "2  This is a well-made documentary on the excitin...          1\n",
       "3  My God, this is funny stuff. Yes, it's puerile...          1\n",
       "4  A Chinese Ghost Story stars the late, great Le...          1"
      ]
     },
     "execution_count": 9,
     "metadata": {},
     "output_type": "execute_result"
    }
   ],
   "source": [
    "df.head()"
   ]
  },
  {
   "cell_type": "markdown",
   "id": "dd1c64a7-0c9b-48b2-8b3a-098bf29c78d0",
   "metadata": {},
   "source": [
    "### Check info"
   ]
  },
  {
   "cell_type": "code",
   "execution_count": 11,
   "id": "a0690072-5176-42c8-99b0-ec70548f31ed",
   "metadata": {},
   "outputs": [
    {
     "name": "stdout",
     "output_type": "stream",
     "text": [
      "<class 'pandas.core.frame.DataFrame'>\n",
      "RangeIndex: 1000 entries, 0 to 999\n",
      "Data columns (total 2 columns):\n",
      " #   Column     Non-Null Count  Dtype \n",
      "---  ------     --------------  ----- \n",
      " 0   review     1000 non-null   object\n",
      " 1   sentiment  1000 non-null   int64 \n",
      "dtypes: int64(1), object(1)\n",
      "memory usage: 15.8+ KB\n"
     ]
    }
   ],
   "source": [
    "df.info()"
   ]
  },
  {
   "cell_type": "markdown",
   "id": "1c0ed65d-48c2-427f-a040-9be9e2ed3db2",
   "metadata": {},
   "source": [
    "### Check for missing values"
   ]
  },
  {
   "cell_type": "code",
   "execution_count": 13,
   "id": "2ec4f24f-e4e5-43eb-8149-8d428a38e31c",
   "metadata": {},
   "outputs": [
    {
     "data": {
      "text/plain": [
       "review       0\n",
       "sentiment    0\n",
       "dtype: int64"
      ]
     },
     "execution_count": 13,
     "metadata": {},
     "output_type": "execute_result"
    }
   ],
   "source": [
    "df.isna().sum()"
   ]
  },
  {
   "cell_type": "markdown",
   "id": "990d7551-42b1-46bf-b58a-854d8b11ee64",
   "metadata": {},
   "source": [
    "### Check for duplicate"
   ]
  },
  {
   "cell_type": "code",
   "execution_count": 15,
   "id": "f10db5f4-b558-4a11-8dab-1d60356036dd",
   "metadata": {},
   "outputs": [
    {
     "data": {
      "text/plain": [
       "0"
      ]
     },
     "execution_count": 15,
     "metadata": {},
     "output_type": "execute_result"
    }
   ],
   "source": [
    "df.duplicated().sum()"
   ]
  },
  {
   "cell_type": "markdown",
   "id": "db93ece2-f731-40a9-9eb5-eea9dcbb0108",
   "metadata": {},
   "source": [
    "### View descriptive stats"
   ]
  },
  {
   "cell_type": "code",
   "execution_count": 17,
   "id": "59b43206-7b0c-4a60-b1c9-4115d1a9597f",
   "metadata": {},
   "outputs": [
    {
     "data": {
      "text/html": [
       "<div>\n",
       "<style scoped>\n",
       "    .dataframe tbody tr th:only-of-type {\n",
       "        vertical-align: middle;\n",
       "    }\n",
       "\n",
       "    .dataframe tbody tr th {\n",
       "        vertical-align: top;\n",
       "    }\n",
       "\n",
       "    .dataframe thead th {\n",
       "        text-align: right;\n",
       "    }\n",
       "</style>\n",
       "<table border=\"1\" class=\"dataframe\">\n",
       "  <thead>\n",
       "    <tr style=\"text-align: right;\">\n",
       "      <th></th>\n",
       "      <th>review</th>\n",
       "      <th>sentiment</th>\n",
       "    </tr>\n",
       "  </thead>\n",
       "  <tbody>\n",
       "    <tr>\n",
       "      <th>count</th>\n",
       "      <td>1000</td>\n",
       "      <td>1000.000000</td>\n",
       "    </tr>\n",
       "    <tr>\n",
       "      <th>unique</th>\n",
       "      <td>1000</td>\n",
       "      <td>NaN</td>\n",
       "    </tr>\n",
       "    <tr>\n",
       "      <th>top</th>\n",
       "      <td>this has got to be one of those films where th...</td>\n",
       "      <td>NaN</td>\n",
       "    </tr>\n",
       "    <tr>\n",
       "      <th>freq</th>\n",
       "      <td>1</td>\n",
       "      <td>NaN</td>\n",
       "    </tr>\n",
       "    <tr>\n",
       "      <th>mean</th>\n",
       "      <td>NaN</td>\n",
       "      <td>0.498000</td>\n",
       "    </tr>\n",
       "    <tr>\n",
       "      <th>std</th>\n",
       "      <td>NaN</td>\n",
       "      <td>0.500246</td>\n",
       "    </tr>\n",
       "    <tr>\n",
       "      <th>min</th>\n",
       "      <td>NaN</td>\n",
       "      <td>0.000000</td>\n",
       "    </tr>\n",
       "    <tr>\n",
       "      <th>25%</th>\n",
       "      <td>NaN</td>\n",
       "      <td>0.000000</td>\n",
       "    </tr>\n",
       "    <tr>\n",
       "      <th>50%</th>\n",
       "      <td>NaN</td>\n",
       "      <td>0.000000</td>\n",
       "    </tr>\n",
       "    <tr>\n",
       "      <th>75%</th>\n",
       "      <td>NaN</td>\n",
       "      <td>1.000000</td>\n",
       "    </tr>\n",
       "    <tr>\n",
       "      <th>max</th>\n",
       "      <td>NaN</td>\n",
       "      <td>1.000000</td>\n",
       "    </tr>\n",
       "  </tbody>\n",
       "</table>\n",
       "</div>"
      ],
      "text/plain": [
       "                                                   review    sentiment\n",
       "count                                                1000  1000.000000\n",
       "unique                                               1000          NaN\n",
       "top     this has got to be one of those films where th...          NaN\n",
       "freq                                                    1          NaN\n",
       "mean                                                  NaN     0.498000\n",
       "std                                                   NaN     0.500246\n",
       "min                                                   NaN     0.000000\n",
       "25%                                                   NaN     0.000000\n",
       "50%                                                   NaN     0.000000\n",
       "75%                                                   NaN     1.000000\n",
       "max                                                   NaN     1.000000"
      ]
     },
     "execution_count": 17,
     "metadata": {},
     "output_type": "execute_result"
    }
   ],
   "source": [
    "df.describe(include ='all')"
   ]
  },
  {
   "cell_type": "markdown",
   "id": "49dd3066-9ce3-4106-90f9-50e4ea52c21c",
   "metadata": {},
   "source": [
    "### Check for imbalanced data"
   ]
  },
  {
   "cell_type": "code",
   "execution_count": 19,
   "id": "a2046d4d-6da1-43a1-b57b-6752ce8f30b0",
   "metadata": {},
   "outputs": [
    {
     "data": {
      "text/plain": [
       "<Axes: ylabel='count'>"
      ]
     },
     "execution_count": 19,
     "metadata": {},
     "output_type": "execute_result"
    },
    {
     "data": {
      "image/png": "[encoded data removed]",
      "text/plain": [
       "<Figure size 1000x300 with 2 Axes>"
      ]
     },
     "metadata": {},
     "output_type": "display_data"
    }
   ],
   "source": [
    "plt.figure(figsize = (10,3))\n",
    "plt.subplot(1,2,1)\n",
    "sns.countplot(y = df['sentiment'],palette = 'plasma')\n",
    "plt.subplot(1,2,2)\n",
    "df['sentiment'].value_counts().plot.pie(autopct = '%1.1f%%', cmap = 'plasma')"
   ]
  },
  {
   "cell_type": "markdown",
   "id": "2fa7d5b5-bdde-4572-9a86-ac58a81f1815",
   "metadata": {},
   "source": [
    "###  Create a function to Preprocess the review column"
   ]
  },
  {
   "cell_type": "code",
   "execution_count": 21,
   "id": "48997ba9-5bb6-4953-81c8-41733aa51ddd",
   "metadata": {},
   "outputs": [],
   "source": [
    "def preprocess(sentence):\n",
    "    text = re.sub(r'[^a-zA-Z0-9]',' ', sentence).split()\n",
    "    words = [x.lower() for x in text if x not in stopwords.words('english')]\n",
    "    lemma = WordNetLemmatizer()\n",
    "    word = [lemma.lemmatize(word,'v') for word in words]\n",
    "    word = ' '.join(word)\n",
    "    return word\n",
    "             \n",
    "    "
   ]
  },
  {
   "cell_type": "markdown",
   "id": "09fe089a-7939-40f5-a6ef-e20f02c4e01f",
   "metadata": {},
   "source": [
    "### Apply the function in the review column"
   ]
  },
  {
   "cell_type": "code",
   "execution_count": 23,
   "id": "56c19e07-2383-4726-ac18-ad42c2eecba0",
   "metadata": {},
   "outputs": [],
   "source": [
    "df['review'] = df['review'].apply(preprocess)"
   ]
  },
  {
   "cell_type": "markdown",
   "id": "015d5d14-7858-4934-aa6e-f37de80e2d2c",
   "metadata": {},
   "source": [
    "### Print reviews after preprocess"
   ]
  },
  {
   "cell_type": "code",
   "execution_count": 25,
   "id": "7d896151-b881-4555-9cbe-8314c2980015",
   "metadata": {},
   "outputs": [
    {
     "name": "stdout",
     "output_type": "stream",
     "text": [
      "get one film trailer 50 time better movie i first saw trailer 1991 look great since always want see could never find today yes 14 years later br br let say i disappoint unreal ok know oscar winner still hop would fun brain film bloodsport mold unfortunately pooh br br whats american rock roll music act bad quite frighten br br the fight scenes rubbish look fake br br dvd cost 5 i believe i overcharge 7 br br now i sad i know i never get hour half back\n",
      "\n",
      "this may well worst movie i see i live 100 i think group first graders could come better plot line class project i dumber watch god mercy souls pay produce film br br and i finally turn i actually urge vomit br br no one clue photography make no one clue act no one clue anything br br i believe f x show crap occasion the time i see one starz channel even main one and 3\n",
      "\n",
      "this well make documentary excite world indy car race the photography simply outstanding the scene mario andretti drive old race roadster new england street line ancient maples leave blow side speed car incredible the film lose beauty small screen like watch cars drive limit see film\n",
      "\n",
      "my god funny stuff yes puerile extreme also rather witty here page win it little early us i afraid well fight sequence second none despite may hear laugh keep come surprisingly generous rate the sheer comic abilities rik mayall adrian edmondson help keep riotously funny wring every drop comedy script i compare fear loathe las vegas either find film hysterical throughout apply it probably funniest british film since withnail i say acquire taste something gross sic understatement\n",
      "\n",
      "a chinese ghost story star late great leslie cheung ling choi sin penniless tax collector decide spend night desert temple meet fall beautiful woman call tsing joey wang when ling discover tsing actually ghost force seduce victims evil tree spirit feed chi life force decide try free girl give remain proper burial enlist help swordsman yin wu crazy taoist monk ling successfully defeat tree spirit must also battle hell evil lord black tsing due wed br br the first hong kong film i saw purely martial arts action a chinese ghost story open eye incredible world asian fantasy horror magical realm inhabit beautiful female ghost bumble innocent heroes sword wield taoist monks monstrous spirit dark lord underworld i instantly fell love film exuberance energy humour inventiveness visual excellence br br two decades later amaze movie still remain one finest examples genre i see sumptuous breathtaking masterpiece brilliantly blend horror comedy fantasy romance with superb direction siu tung ching excellent edit david wu stun cinematography whole slew imaginative special effect include humongous killer tongue many tentacled monster multiple fly head a chinese ghost story completely unforgettable thoroughly enjoyable experience start finish\n",
      "\n"
     ]
    }
   ],
   "source": [
    "for i in range(5):\n",
    "    print(df['review'][i])\n",
    "    print()"
   ]
  },
  {
   "cell_type": "markdown",
   "id": "2b7e63b0-5865-4c8b-992b-52065defc98c",
   "metadata": {},
   "source": [
    "### Split the dataset into Input (X) & Target (y) variable"
   ]
  },
  {
   "cell_type": "code",
   "execution_count": 27,
   "id": "dec7e16c-af84-4c49-b6ee-2effa502a56f",
   "metadata": {},
   "outputs": [],
   "source": [
    "X = df['review']\n",
    "y = df['sentiment']"
   ]
  },
  {
   "cell_type": "markdown",
   "id": "96ded2e1-5ac9-4e40-a98e-3bc952bd4083",
   "metadata": {},
   "source": [
    "### Create Keras tokenizer object with 5000 max words"
   ]
  },
  {
   "cell_type": "code",
   "execution_count": 29,
   "id": "cbcd125e-41cc-45f6-adfa-f5155f95e6e6",
   "metadata": {},
   "outputs": [],
   "source": [
    "tokenizer = Tokenizer()\n",
    "tokenizer.fit_on_texts(X)\n",
    "vocab_size = len(tokenizer.word_index)+1\n",
    "\n",
    "def text_encoding(text):\n",
    "    encoded_docs = tokenizer.texts_to_sequences(text)\n",
    "    padded_sequence = pad_sequences(encoded_docs,maxlen = 128)\n",
    "    return padded_sequence\n",
    "\n",
    "X = text_encoding(X)\n",
    "    "
   ]
  },
  {
   "cell_type": "markdown",
   "id": "cafaea80-126c-4d15-9e63-89bfeac95e82",
   "metadata": {},
   "source": [
    "### Split the dataset into Training & Testing set"
   ]
  },
  {
   "cell_type": "code",
   "execution_count": 31,
   "id": "30119206-60d8-4618-9263-0d573290a82b",
   "metadata": {},
   "outputs": [],
   "source": [
    "X_train,X_test,y_train,y_test = train_test_split(X,y,test_size = 0.3)"
   ]
  },
  {
   "cell_type": "code",
   "execution_count": 32,
   "id": "3edd1967-b62f-4dd9-84b3-a2982d16ffeb",
   "metadata": {},
   "outputs": [
    {
     "name": "stdout",
     "output_type": "stream",
     "text": [
      "Shape of X_train : (700, 128)\n",
      "Shape of X_test : (300, 128)\n",
      "Shape of y_train : (700,)\n",
      "Shape of y_test : (300,)\n"
     ]
    }
   ],
   "source": [
    "print('Shape of X_train :',X_train.shape)\n",
    "print('Shape of X_test :',X_test.shape)\n",
    "print('Shape of y_train :',y_train.shape)\n",
    "print('Shape of y_test :',y_test.shape)"
   ]
  },
  {
   "cell_type": "markdown",
   "id": "a39ed6b1-cc60-43ed-8477-76cdd3bf5c21",
   "metadata": {},
   "source": [
    "### Create keras Sequential Model with LSTM Layers"
   ]
  },
  {
   "cell_type": "code",
   "execution_count": 34,
   "id": "d9aab81a-818c-4b31-be3b-cf0e5ea5a341",
   "metadata": {},
   "outputs": [],
   "source": [
    "model = Sequential()\n",
    "\n",
    "model.add(layers.Embedding(vocab_size, 128))\n",
    "model.add(layers.LSTM(128, return_sequences = True))\n",
    "model.add(layers.Dropout(0.2))\n",
    "model.add(layers.LSTM(128))\n",
    "model.add(layers.Dropout(0.2))\n",
    "model.add(layers.Dense(64,activation = 'relu'))\n",
    "model.add(layers.Dropout(0.2))\n",
    "model.add(layers.Dense(32, activation = 'relu'))\n",
    "model.add(layers.Dropout(0.2))\n",
    "model.add(layers.Dense(1, activation ='sigmoid'))"
   ]
  },
  {
   "cell_type": "markdown",
   "id": "fd496e79-6de7-48b1-9704-ccf7598786df",
   "metadata": {},
   "source": [
    "### Compile the model"
   ]
  },
  {
   "cell_type": "code",
   "execution_count": 36,
   "id": "2a5f3f72-49d4-44ef-ab04-cdb342fe8d60",
   "metadata": {},
   "outputs": [],
   "source": [
    "model.compile(optimizer ='adam', loss = 'binary_crossentropy',metrics =['accuracy'])"
   ]
  },
  {
   "cell_type": "markdown",
   "id": "39649eff-fdd8-4f10-98ef-92c2dcc3f65b",
   "metadata": {},
   "source": [
    "### Train the model with our training set"
   ]
  },
  {
   "cell_type": "code",
   "execution_count": 38,
   "id": "f8810b3a-a4f3-4ed8-9314-74668fea3c85",
   "metadata": {},
   "outputs": [
    {
     "name": "stdout",
     "output_type": "stream",
     "text": [
      "Epoch 1/10\n",
      "\u001b[1m20/20\u001b[0m \u001b[32m━━━━━━━━━━━━━━━━━━━━\u001b[0m\u001b[37m\u001b[0m \u001b[1m18s\u001b[0m 314ms/step - accuracy: 0.5009 - loss: 0.6932 - val_accuracy: 0.5143 - val_loss: 0.6882\n",
      "Epoch 2/10\n",
      "\u001b[1m20/20\u001b[0m \u001b[32m━━━━━━━━━━━━━━━━━━━━\u001b[0m\u001b[37m\u001b[0m \u001b[1m9s\u001b[0m 225ms/step - accuracy: 0.7263 - loss: 0.6251 - val_accuracy: 0.7857 - val_loss: 0.5350\n",
      "Epoch 3/10\n",
      "\u001b[1m20/20\u001b[0m \u001b[32m━━━━━━━━━━━━━━━━━━━━\u001b[0m\u001b[37m\u001b[0m \u001b[1m5s\u001b[0m 223ms/step - accuracy: 0.9741 - loss: 0.1448 - val_accuracy: 0.7286 - val_loss: 2.0415\n",
      "Epoch 4/10\n",
      "\u001b[1m20/20\u001b[0m \u001b[32m━━━━━━━━━━━━━━━━━━━━\u001b[0m\u001b[37m\u001b[0m \u001b[1m5s\u001b[0m 237ms/step - accuracy: 0.9799 - loss: 0.1371 - val_accuracy: 0.6857 - val_loss: 0.9966\n",
      "Epoch 5/10\n",
      "\u001b[1m20/20\u001b[0m \u001b[32m━━━━━━━━━━━━━━━━━━━━\u001b[0m\u001b[37m\u001b[0m \u001b[1m5s\u001b[0m 249ms/step - accuracy: 0.9988 - loss: 0.0102 - val_accuracy: 0.6857 - val_loss: 1.5326\n",
      "Epoch 6/10\n",
      "\u001b[1m20/20\u001b[0m \u001b[32m━━━━━━━━━━━━━━━━━━━━\u001b[0m\u001b[37m\u001b[0m \u001b[1m5s\u001b[0m 269ms/step - accuracy: 1.0000 - loss: 0.0019 - val_accuracy: 0.7143 - val_loss: 1.8767\n",
      "Epoch 7/10\n",
      "\u001b[1m20/20\u001b[0m \u001b[32m━━━━━━━━━━━━━━━━━━━━\u001b[0m\u001b[37m\u001b[0m \u001b[1m5s\u001b[0m 265ms/step - accuracy: 0.9959 - loss: 0.0190 - val_accuracy: 0.6857 - val_loss: 1.6017\n",
      "Epoch 8/10\n",
      "\u001b[1m20/20\u001b[0m \u001b[32m━━━━━━━━━━━━━━━━━━━━\u001b[0m\u001b[37m\u001b[0m \u001b[1m5s\u001b[0m 261ms/step - accuracy: 1.0000 - loss: 0.0037 - val_accuracy: 0.6714 - val_loss: 1.3571\n",
      "Epoch 9/10\n",
      "\u001b[1m20/20\u001b[0m \u001b[32m━━━━━━━━━━━━━━━━━━━━\u001b[0m\u001b[37m\u001b[0m \u001b[1m5s\u001b[0m 250ms/step - accuracy: 1.0000 - loss: 5.6777e-04 - val_accuracy: 0.7000 - val_loss: 1.5499\n",
      "Epoch 10/10\n",
      "\u001b[1m20/20\u001b[0m \u001b[32m━━━━━━━━━━━━━━━━━━━━\u001b[0m\u001b[37m\u001b[0m \u001b[1m5s\u001b[0m 230ms/step - accuracy: 1.0000 - loss: 3.6669e-04 - val_accuracy: 0.6857 - val_loss: 1.6743\n"
     ]
    },
    {
     "data": {
      "text/plain": [
       "<keras.src.callbacks.history.History at 0x25dd6d9d550>"
      ]
     },
     "execution_count": 38,
     "metadata": {},
     "output_type": "execute_result"
    }
   ],
   "source": [
    "model.fit(X_train,y_train,epochs = 10, validation_split = 0.1)"
   ]
  },
  {
   "cell_type": "markdown",
   "id": "1a2ff625-db52-4359-a372-0903248659c9",
   "metadata": {},
   "source": [
    "### Evaluate the model"
   ]
  },
  {
   "cell_type": "code",
   "execution_count": 40,
   "id": "a435141f-5b5b-4a46-b589-3fca74d690a3",
   "metadata": {},
   "outputs": [
    {
     "name": "stdout",
     "output_type": "stream",
     "text": [
      "\u001b[1m22/22\u001b[0m \u001b[32m━━━━━━━━━━━━━━━━━━━━\u001b[0m\u001b[37m\u001b[0m \u001b[1m2s\u001b[0m 73ms/step - accuracy: 0.9958 - loss: 0.0241 \n"
     ]
    },
    {
     "data": {
      "text/plain": [
       "[0.16746163368225098, 0.9685714244842529]"
      ]
     },
     "execution_count": 40,
     "metadata": {},
     "output_type": "execute_result"
    }
   ],
   "source": [
    "model.evaluate(X_train,y_train)"
   ]
  },
  {
   "cell_type": "code",
   "execution_count": 41,
   "id": "8737b807-6a26-4c67-acc3-a8b7339272f7",
   "metadata": {},
   "outputs": [],
   "source": [
    "### Predict the model"
   ]
  },
  {
   "cell_type": "code",
   "execution_count": 42,
   "id": "6a9f1e4e-6aea-4e1f-86ff-4ed6a3e3bba4",
   "metadata": {},
   "outputs": [
    {
     "name": "stdout",
     "output_type": "stream",
     "text": [
      "\u001b[1m10/10\u001b[0m \u001b[32m━━━━━━━━━━━━━━━━━━━━\u001b[0m\u001b[37m\u001b[0m \u001b[1m2s\u001b[0m 161ms/step\n"
     ]
    }
   ],
   "source": [
    "y_pred = model.predict(X_test)"
   ]
  },
  {
   "cell_type": "code",
   "execution_count": 43,
   "id": "5c27cceb-0e77-432c-82b6-618768e9420d",
   "metadata": {},
   "outputs": [
    {
     "data": {
      "text/plain": [
       "array([[9.9687749e-01],\n",
       "       [3.8053482e-04],\n",
       "       [2.6922411e-01],\n",
       "       [2.4888930e-03],\n",
       "       [9.9983257e-01]], dtype=float32)"
      ]
     },
     "execution_count": 43,
     "metadata": {},
     "output_type": "execute_result"
    }
   ],
   "source": [
    "y_pred[:5]"
   ]
  },
  {
   "cell_type": "code",
   "execution_count": 44,
   "id": "0bfe9f2a-6446-4c76-90db-daa481664ee1",
   "metadata": {},
   "outputs": [],
   "source": [
    "y_pred = (y_pred > 0.5).astype(int)"
   ]
  },
  {
   "cell_type": "code",
   "execution_count": 45,
   "id": "89765cdc-347d-4312-a4e5-0282f20d9d2f",
   "metadata": {},
   "outputs": [
    {
     "data": {
      "text/plain": [
       "array([[1],\n",
       "       [0],\n",
       "       [0],\n",
       "       [0],\n",
       "       [1]])"
      ]
     },
     "execution_count": 45,
     "metadata": {},
     "output_type": "execute_result"
    }
   ],
   "source": [
    "y_pred[:5]"
   ]
  },
  {
   "cell_type": "code",
   "execution_count": 46,
   "id": "6d549fa6-e4d4-4b54-b1aa-ad7fa5105efd",
   "metadata": {},
   "outputs": [],
   "source": [
    "#### Accuracy of the model"
   ]
  },
  {
   "cell_type": "code",
   "execution_count": 47,
   "id": "57aff2bb-b53d-43e6-a998-9eacef83b1a8",
   "metadata": {},
   "outputs": [
    {
     "data": {
      "text/plain": [
       "0.6733333333333333"
      ]
     },
     "execution_count": 47,
     "metadata": {},
     "output_type": "execute_result"
    }
   ],
   "source": [
    "accuracy_score(y_test,y_pred)"
   ]
  },
  {
   "cell_type": "code",
   "execution_count": 48,
   "id": "c21be572-d544-4991-ae09-c40cde7a4067",
   "metadata": {},
   "outputs": [],
   "source": [
    "#### Confusion matrix"
   ]
  },
  {
   "cell_type": "code",
   "execution_count": 49,
   "id": "28d72eec-9bad-40b4-9e4f-7c5e7acd3c4d",
   "metadata": {},
   "outputs": [
    {
     "data": {
      "text/plain": [
       "<Axes: >"
      ]
     },
     "execution_count": 49,
     "metadata": {},
     "output_type": "execute_result"
    },
    {
     "data": {
      "image/png": "[encoded data removed]",
      "text/plain": [
       "<Figure size 640x480 with 2 Axes>"
      ]
     },
     "metadata": {},
     "output_type": "display_data"
    }
   ],
   "source": [
    "sns.heatmap(confusion_matrix(y_test,y_pred), annot = True, fmt = 'd')"
   ]
  },
  {
   "cell_type": "code",
   "execution_count": 50,
   "id": "905c425b-d989-41f7-bc0a-ccc7cbee6d95",
   "metadata": {},
   "outputs": [
    {
     "name": "stdout",
     "output_type": "stream",
     "text": [
      "              precision    recall  f1-score   support\n",
      "\n",
      "           0       0.67      0.70      0.68       151\n",
      "           1       0.68      0.64      0.66       149\n",
      "\n",
      "    accuracy                           0.67       300\n",
      "   macro avg       0.67      0.67      0.67       300\n",
      "weighted avg       0.67      0.67      0.67       300\n",
      "\n"
     ]
    }
   ],
   "source": [
    "print(classification_report(y_test,y_pred))"
   ]
  },
  {
   "cell_type": "code",
   "execution_count": null,
   "id": "0ce930e4-a5be-455d-bb90-67ba470618b2",
   "metadata": {},
   "outputs": [],
   "source": []
  }
 ],
 "metadata": {
  "kernelspec": {
   "display_name": "Python 3 (ipykernel)",
   "language": "python",
   "name": "python3"
  },
  "language_info": {
   "codemirror_mode": {
    "name": "ipython",
    "version": 3
   },
   "file_extension": ".py",
   "mimetype": "text/x-python",
   "name": "python",
   "nbconvert_exporter": "python",
   "pygments_lexer": "ipython3",
   "version": "3.12.4"
  }
 },
 "nbformat": 4,
 "nbformat_minor": 5
}
